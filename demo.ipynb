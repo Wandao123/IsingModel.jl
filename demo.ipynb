{
 "cells": [
  {
   "cell_type": "markdown",
   "metadata": {},
   "source": [
    "# Demonstrations"
   ]
  },
  {
   "cell_type": "code",
   "execution_count": null,
   "metadata": {},
   "outputs": [],
   "source": [
    "using IsingModel\n",
    "using BenchmarkTools\n",
    "using Conda\n",
    "using LinearAlgebra\n",
    "using Plots\n",
    "using PyCall\n",
    "using Random, Distributions\n",
    "using Revise\n",
    "using SparseArrays\n",
    "\n",
    "# Uncomment the following two lines the first time to run this demonstration.\n",
    "#Conda.add(\"scipy\")\n",
    "#Conda.add(\"networkx\")\n",
    "const nx = pyimport(\"networkx\")"
   ]
  },
  {
   "cell_type": "code",
   "execution_count": null,
   "metadata": {},
   "outputs": [],
   "source": [
    "const scipy_sparse_find = pyimport(\"scipy.sparse\")[\"find\"]\n",
    "function mysparse(Apy::PyObject)\n",
    "    IA, JA, SA = scipy_sparse_find(Apy)\n",
    "    return sparse(Int[i + 1 for i in IA], Int[i + 1 for i in JA], SA)\n",
    "end"
   ]
  },
  {
   "cell_type": "code",
   "execution_count": null,
   "metadata": {},
   "outputs": [],
   "source": [
    "const N = 64  # The number of nodes\n",
    "const SIDE_LENGTH = (Int ∘ ceil ∘ sqrt)(N)\n",
    "\n",
    "# Generate a square lattice with the periodic boundary condition by NetworkX.\n",
    "G = nx.grid_2d_graph(SIDE_LENGTH, SIDE_LENGTH, periodic=true)\n",
    "nx.set_edge_attributes(G, values=-1, name=\"weight\")\n",
    "\n",
    "adjacencyMatrix = mysparse(nx.adjacency_matrix(G))\n",
    "bias = zeros(N)\n",
    "const INITIAL_CONFIGURATION = 2 .* rand(Bernoulli(0.5), N) .- 1\n",
    "spinSystem = SpinSystem(INITIAL_CONFIGURATION, adjacencyMatrix, bias)"
   ]
  },
  {
   "cell_type": "code",
   "execution_count": null,
   "metadata": {},
   "outputs": [],
   "source": [
    "const MAX_STEPS = N^2\n",
    "const INITIAL_TEMPERATURE = float(N)\n",
    "const FINAL_TEMPERATURE = 0.0\n",
    "\n",
    "#annealingSchedule(n) = (FINAL_TEMPERATURE - INITIAL_TEMPERATURE) / MAX_STEPS * n + INITIAL_TEMPERATURE\n",
    "annealingSchedule(n) = INITIAL_TEMPERATURE^(-n)\n",
    "\n",
    "function runAnnealer(Algorithm::Type{<:IsingModel.UpdatingAlgorithm}, spinSystem::SpinSystem, INITIAL_TEMPERATURE=-1.0)::Vector{Float64}\n",
    "    if INITIAL_TEMPERATURE < 0.0\n",
    "        return map(calcEnergy, takeSamples!(Algorithm(deepcopy(spinSystem)), MAX_STEPS, annealingSchedule))\n",
    "    else\n",
    "        return map(calcEnergy, takeSamples!(Algorithm(deepcopy(spinSystem), INITIAL_TEMPERATURE), MAX_STEPS, annealingSchedule))\n",
    "    end\n",
    "end"
   ]
  },
  {
   "cell_type": "code",
   "execution_count": null,
   "metadata": {},
   "outputs": [],
   "source": [
    "@benchmark runAnnealer(GlauberDynamics, spinSystem, INITIAL_TEMPERATURE)"
   ]
  },
  {
   "cell_type": "code",
   "execution_count": null,
   "metadata": {},
   "outputs": [],
   "source": [
    "plot(xlabel=\"MC steps\", ylabel=\"Energy\")\n",
    "plot!(runAnnealer(AsynchronousHopfieldNetwork, spinSystem), label=\"Hopfield\")\n",
    "plot!(runAnnealer(GlauberDynamics, spinSystem, INITIAL_TEMPERATURE), label=\"Glauber\")\n",
    "plot!(runAnnealer(MetropolisMethod, spinSystem, INITIAL_TEMPERATURE), label=\"Metropolis\")"
   ]
  }
 ],
 "metadata": {
  "kernelspec": {
   "display_name": "Julia 1.9.2",
   "language": "julia",
   "name": "julia-1.9"
  },
  "language_info": {
   "file_extension": ".jl",
   "mimetype": "application/julia",
   "name": "julia",
   "version": "1.9.2"
  },
  "orig_nbformat": 4
 },
 "nbformat": 4,
 "nbformat_minor": 2
}
