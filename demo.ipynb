{
 "cells": [
  {
   "cell_type": "markdown",
   "metadata": {},
   "source": [
    "# Demonstrations"
   ]
  },
  {
   "cell_type": "code",
   "execution_count": null,
   "metadata": {},
   "outputs": [],
   "source": [
    "using IsingModel\n",
    "using IsingModel.SpinSystems: calcEnergy\n",
    "using IsingModel.SamplingHelper: makeSampler!\n",
    "using BenchmarkTools\n",
    "using Distributions\n",
    "import Graphs\n",
    "using GraphPlot: gplot\n",
    "using LinearAlgebra\n",
    "using Plots: histogram, plot, plot!\n",
    "using Random\n",
    "using Revise"
   ]
  },
  {
   "cell_type": "code",
   "execution_count": null,
   "metadata": {},
   "outputs": [],
   "source": [
    "### When using NetworkX, uncomment the following lines.\n",
    "# using Conda\n",
    "# using PyCall\n",
    "# using SparseArrays\n",
    "# Conda.add(\"scipy\")     # Make `Conda.add` run once the first time.\n",
    "# Conda.add(\"networkx\")\n",
    "# const nx = pyimport(\"networkx\")\n",
    "\n",
    "## Ref: https://github.com/JuliaPy/PyCall.jl/issues/204\n",
    "# const scipy_sparse_find = pyimport(\"scipy.sparse\")[\"find\"]\n",
    "# function mysparse(Apy::PyObject)\n",
    "#     IA, JA, SA = scipy_sparse_find(Apy)\n",
    "#     return sparse(Int[i + 1 for i in IA], Int[i + 1 for i in JA], SA)\n",
    "# end"
   ]
  },
  {
   "cell_type": "code",
   "execution_count": null,
   "metadata": {},
   "outputs": [],
   "source": [
    "const N = 9  # The number of nodes\n",
    "const SIDE_LENGTH = (Int ∘ ceil ∘ sqrt)(N)\n",
    "\n",
    "### A way using the Graphs.jl library\n",
    "G = Graphs.grid((SIDE_LENGTH, SIDE_LENGTH), periodic=true)\n",
    "adjacencyMatrix = map(Graphs.adjacency_matrix(G)) do c\n",
    "    ifelse(c == 0, 0, -1)\n",
    "end\n",
    "\n",
    "### Generate a square lattice with the periodic boundary condition by NetworkX.\n",
    "# G = nx.grid_2d_graph(SIDE_LENGTH, SIDE_LENGTH, periodic=true)\n",
    "# nx.set_edge_attributes(G, values=-1, name=\"weight\")\n",
    "# adjacencyMatrix = mysparse(nx.adjacency_matrix(G))\n",
    "\n",
    "bias = zeros(N)\n",
    "const INITIAL_CONFIGURATION = 2 .* rand(Bernoulli(0.5), N) .- 1\n",
    "spinSystem = SpinSystems.SpinSystem(\n",
    "    INITIAL_CONFIGURATION,\n",
    "    adjacencyMatrix,\n",
    "    bias\n",
    ")\n",
    "println(\"Hamiltonian = $(calcEnergy(spinSystem))\")\n",
    "pinningParameter = 0.5 * eigmax(collect(adjacencyMatrix))\n",
    "spinSystemOnBipartiteGraph = SpinSystems.SpinSystemOnBipartiteGraph(\n",
    "    INITIAL_CONFIGURATION,\n",
    "    INITIAL_CONFIGURATION,\n",
    "    0.5 * (adjacencyMatrix + pinningParameter * I),\n",
    "    0.5 * bias,\n",
    "    0.5 * bias\n",
    ")\n",
    "println(\"Modified Hamiltonian = $(calcEnergy(spinSystemOnBipartiteGraph) + 0.5 * pinningParameter * N)\")"
   ]
  },
  {
   "cell_type": "code",
   "execution_count": null,
   "metadata": {},
   "outputs": [],
   "source": [
    "gplot(G)"
   ]
  },
  {
   "cell_type": "code",
   "execution_count": null,
   "metadata": {},
   "outputs": [],
   "source": [
    "const MAX_STEPS = N ^ 2 ÷ 2\n",
    "const INITIAL_TEMPERATURE = float(N)\n",
    "const FINAL_TEMPERATURE = 0.0\n",
    "\n",
    "#annealingSchedule(n) = (FINAL_TEMPERATURE - INITIAL_TEMPERATURE) / MAX_STEPS * n + INITIAL_TEMPERATURE\n",
    "annealingSchedule(n) = INITIAL_TEMPERATURE ^ (-n / MAX_STEPS)\n",
    "\n",
    "function runAnnealer(\n",
    "    Algorithm::Type{<:SpinSystems.UpdatingAlgorithm},\n",
    "    spinSystem::SpinSystems.SpinSystem,\n",
    "    INITIAL_TEMPERATURE::Float64=-1.0\n",
    ")::Vector{Float64}\n",
    "    if INITIAL_TEMPERATURE < 0.0\n",
    "        return map(\n",
    "            calcEnergy,\n",
    "            makeSampler!(\n",
    "                Algorithm(deepcopy(spinSystem)),\n",
    "                MAX_STEPS,\n",
    "                annealingSchedule=annealingSchedule\n",
    "            )\n",
    "        )\n",
    "    else\n",
    "        return map(\n",
    "            calcEnergy,\n",
    "            makeSampler!(\n",
    "                Algorithm(deepcopy(spinSystem), INITIAL_TEMPERATURE),\n",
    "                MAX_STEPS,\n",
    "                annealingSchedule=annealingSchedule\n",
    "            )\n",
    "        )\n",
    "    end\n",
    "end\n",
    "\n",
    "function runAnnealer(\n",
    "    Algorithm::Type{<:SpinSystems.UpdatingAlgorithmOnBipartiteGraph},\n",
    "    spinSystem::SpinSystems.SpinSystemOnBipartiteGraph,\n",
    "    INITIAL_TEMPERATURE::Float64=-1.0\n",
    ")::Vector{Float64}\n",
    "    return map(\n",
    "        a -> calcEnergy(a) + 0.5 * pinningParameter * N,\n",
    "        makeSampler!(\n",
    "            Algorithm(deepcopy(spinSystem), INITIAL_TEMPERATURE),\n",
    "            MAX_STEPS,\n",
    "            annealingSchedule=annealingSchedule\n",
    "        )\n",
    "    )\n",
    "end"
   ]
  },
  {
   "cell_type": "code",
   "execution_count": null,
   "metadata": {},
   "outputs": [],
   "source": [
    "@benchmark runAnnealer(SingleSpinFlip.GlauberDynamics, spinSystem, INITIAL_TEMPERATURE)"
   ]
  },
  {
   "cell_type": "code",
   "execution_count": null,
   "metadata": {},
   "outputs": [],
   "source": [
    "plot(xlabel=\"MC steps\", ylabel=\"Energy\")\n",
    "plot!(runAnnealer(SingleSpinFlip.AsynchronousHopfieldNetwork, spinSystem), label=\"Hopfield\")\n",
    "plot!(runAnnealer(SingleSpinFlip.GlauberDynamics, spinSystem, INITIAL_TEMPERATURE), label=\"Glauber\")\n",
    "plot!(runAnnealer(SingleSpinFlip.MetropolisMethod, spinSystem, INITIAL_TEMPERATURE), label=\"Metropolis\")\n",
    "plot!(runAnnealer(OnBipartiteGraph.StochasticCellularAutomata, spinSystemOnBipartiteGraph, INITIAL_TEMPERATURE), label=\"SCA\")\n",
    "plot!(runAnnealer(OnBipartiteGraph.MomentumAnnealing, spinSystemOnBipartiteGraph, INITIAL_TEMPERATURE), label=\"MA\")"
   ]
  },
  {
   "cell_type": "code",
   "execution_count": null,
   "metadata": {},
   "outputs": [],
   "source": [
    "histogram(\n",
    "    map(\n",
    "        (binary -> parse(Int, binary, base=2))\n",
    "            ∘ join\n",
    "            ∘ (spin -> (1 .- spin) .÷ 2) \n",
    "            ∘ SpinSystems.getSpinConfiguration,\n",
    "        makeSampler!(SingleSpinFlip.GlauberDynamics(spinSystem, N / 4), 50000)\n",
    "    ),\n",
    "    normalize=:pdf\n",
    ")\n",
    "plot!(xlabel=\"Spin configuration\", ylabel=\"Frequency\")"
   ]
  }
 ],
 "metadata": {
  "kernelspec": {
   "display_name": "Julia 1.10.0",
   "language": "julia",
   "name": "julia-1.10"
  },
  "language_info": {
   "file_extension": ".jl",
   "mimetype": "application/julia",
   "name": "julia",
   "version": "1.10.0"
  },
  "orig_nbformat": 4
 },
 "nbformat": 4,
 "nbformat_minor": 2
}
